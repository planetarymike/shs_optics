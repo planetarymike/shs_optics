{
 "cells": [
  {
   "cell_type": "markdown",
   "id": "5c8093a4-4974-48f4-873c-0a35a4c44466",
   "metadata": {},
   "source": [
    "This notebook contains example calculations for the expected signal-to-noise ratio for spatial heterodyne spectroscopy measurements of H and D lyman alpha and H Lyman alpha line profiles."
   ]
  },
  {
   "cell_type": "markdown",
   "id": "26958c34-fbc6-483f-881b-c80f6c5caf6f",
   "metadata": {},
   "source": [
    "# Instrument requirements"
   ]
  },
  {
   "cell_type": "markdown",
   "id": "f4b96483-efd4-4173-a421-95451cc4eda5",
   "metadata": {},
   "source": [
    "Assuming M-B distributed H atoms, the width of the velocity distribution is \n",
    "\n",
    "$\\sqrt{\\frac{2kT}{m}} = 1.8\\text{ km/s}\\left(\\frac{T}{200\\text{ K}}\\right)^{1/2}\\left(\\frac{1\\text{ amu}}{m}\\right)^{1/2}$"
   ]
  },
  {
   "cell_type": "markdown",
   "id": "0ebf23d4-957f-4377-9a36-d00371fe4449",
   "metadata": {},
   "source": [
    "Using the formula for Doppler shift, $\\Delta\\lambda/\\lambda =  v/c$, we require a resolving power of \n",
    "\n",
    "$R = \\frac{\\lambda}{\\Delta\\lambda} = \\frac{c}{v} = c\\left(\\frac{2kT}{m}\\right)^{-1/2}$\n",
    "\n",
    "$R = 1.64\\times 10^5 \\left(\\frac{200\\text{ K}}{T}\\right)^{1/2}\\left(\\frac{m}{1\\text{ amu}}\\right)^{1/2}$"
   ]
  },
  {
   "cell_type": "markdown",
   "id": "f6a2a82c-7c0e-419b-b7eb-4f8998ba8481",
   "metadata": {},
   "source": [
    "For margin, let's say we need to observe as low as 100K. Apodization loses a factor of two in resolution, and to ensure we resolve the thermal width let's multiply by factor of three. This gives a resolving power requirement of\n",
    "\n",
    "$R = 1.40\\times 10^6 \\left(\\frac{100\\text{ K}}{T}\\right)^{1/2}\\left(\\frac{m}{1\\text{ amu}}\\right)^{1/2}$"
   ]
  },
  {
   "cell_type": "markdown",
   "id": "3b9cd44f-db8e-4636-adbe-2a5b0ecfa49b",
   "metadata": {},
   "source": [
    "For SHS, the theoretical resolving power is \n",
    "\n",
    "$R = 4 W \\sin\\theta / \\lambda$"
   ]
  },
  {
   "cell_type": "markdown",
   "id": "8b30b773-4255-46d1-975f-0ddb72ac79eb",
   "metadata": {},
   "source": [
    "or, using the grating equation for a Littrow grating $d \\sin\\theta = m\\lambda$\n",
    "\n",
    "$R=4Wm/d$,\n",
    "\n",
    "where $W$ is the grating width, $1/d$ is the ruling density, and $m$ is the order of diffraction"
   ]
  },
  {
   "cell_type": "markdown",
   "id": "e76d9737-8722-4100-aafd-bd958e110835",
   "metadata": {},
   "source": [
    "If we specify W = 5 cm and m = 1, then we need \n",
    "\n",
    "$1/d > 7000\\text{ lines/mm}$, which will never work. (Though relaxing the spectral resolution requirement slightly would permit 6000 lines/mm gratings, which can be manufactured.)\n",
    "\n",
    "With W = 10 cm, m = 1, we need $1/d > 3500\\text{ lines/mm}$, which is possible, but perhaps undesirable due to the high ruling density.\n",
    "\n",
    "If we work in higher order, the grating sizes can be reduced at the expense of throughput (?) and other challenges (?)."
   ]
  },
  {
   "cell_type": "markdown",
   "id": "34d0e155-67b7-4413-b757-b9f825467611",
   "metadata": {},
   "source": [
    "If we specify R=1.4e6, then the spectral range based on a detector with 1000 spectral elements and tilted fringes, the required resolving power for the monochrometer is a factor of 1000 smaller or R = 1400. This is comparable to the resolving power of the SPRITE cubesat spectrometer, which could be considered as entrance optics for the SHS interferometer (although we probably want a much larger along-slit FOV than SPRITE)."
   ]
  },
  {
   "cell_type": "markdown",
   "id": "d27239fd-1128-4f7c-b0c1-e96fb097c9be",
   "metadata": {},
   "source": [
    "### grating equation\n",
    "From Harlander 1991, the grating equation is \n",
    "\n",
    "σ [sin(θ) + sin(θ-γ)] = m/d,\n",
    "\n",
    "where σ is the wavenumber, θ the Littrow angle of the grating (blaze angle), γ is the diffraction angle off-Littrow, m is the order of diffraction, and 1/d is the groove density."
   ]
  },
  {
   "cell_type": "markdown",
   "id": "e8ce5890-7f01-44c3-b2e9-21878c0f9e0b",
   "metadata": {},
   "source": [
    "### Resolving Power\n",
    "spatial heterodyne spectroscopy gives resolution\n",
    "\n",
    "R = 4 W λ sin θ = 4 W m / d\n",
    "\n",
    "for a grating whose blaze angle is the center angle of interest."
   ]
  },
  {
   "cell_type": "markdown",
   "id": "be599ed5-024e-404a-95dc-e1a27a5c0d40",
   "metadata": {},
   "source": [
    "# Lyman alpha instrument\n",
    "\n",
    "assume:\n",
    "λ = 121.56 nm (σ = 1/(121.56 nm)), \n",
    "m = 1 (for simplicity), \n",
    "1/d <= 6000 lines/mm.\n",
    "\n",
    "Taking 1/d = 6000 lines / mm and γ = θ, we have\n",
    "\n",
    "sin(θ) = (6000 lines / mm) * (121.56 nm) = (6e6 / m) * (121.56e-9 m) = 0.72936, \n",
    "\n",
    "or **θ = 46.8°** . Light of longer wavelength requires a larger angle or a lower ruling density."
   ]
  },
  {
   "cell_type": "markdown",
   "id": "84539b78-4165-4d4d-9b88-73eefe3a2dc0",
   "metadata": {},
   "source": [
    "## Resolving Power and Requirements\n",
    "\n",
    "With this ruling density and a 38 mm grating (equal to the active diameter of the EMUS detector), we obtain resolving power of\n",
    "\n",
    "R = 4 * (38 mm) * (6000 lines/mm)\n",
    "**R = 912,000**\n",
    "  \n",
    "For Lyman alpha, this leads to a resolution element of \n",
    "\n",
    "Δλ = (121.56 nm) / (912,000) = 1.33 mÅ\n",
    "\n",
    "### H thermal line width\n",
    "For lines broadened by the gas velocity distribution, \n",
    "\n",
    "v = sqrt(2*k*T/m) = 1.8 km/s\n",
    "\n",
    "λ/Δλ = c / sqrt(2*k*T/m)\n",
    "**λ/Δλ = 164,390** * sqrt(200 K / T) * sqrt(m / 1 amu)\n",
    "     \n",
    "So getting any other planetary lines would be difficult--- even for Oxygen working in higher order or at greater path difference would be required. But even very cold atmospheres would still have resolvable H lines at R~10^6 .\n",
    "\n",
    "Mars escape velocity is 4.5 km/s, corresponding to (4.5 km/s)/(1.8 km/s) = 2.5 Doppler widths at 200 K. \n",
    "\n",
    "With R = 912,000 , the Doppler width is subsampled by a factor of 5.5, so that ~14 resolution elements separate the line center and H at an escaping velocity perpindicular to the line of sight. \n",
    "\n",
    "### D/H\n",
    "D Lyman alpha is displaced from H Lyman alpha by the mass effect of the extra neutron,\n",
    "\n",
    "H Lyman alpha = 121.5668237310 nm\n",
    "                121.5673644608 nm\n",
    "                (fine structure separation of 5.4 mÅ)\n",
    "\n",
    "D Lyman alpha = 121.533755495 nm\n",
    "                121.534243879 nm\n",
    "                (fine structure separation of 4.88 mÅ)\n",
    "                \n",
    "Total H -> D separation is **331 mÅ**, about 250 resolution elements. \n",
    "\n",
    "## bandpass\n",
    "In SHS, bandpass is determined as \n",
    "\n",
    "N/2*(Δλ_min), \n",
    "\n",
    "where N is the number of detector elements in the dispersion direction, For a ~1000 pixel detector, the bandpass between H Lyman alpha and D Lyman alpha could be resolved. D lines would produce a sinusoidal pattern varying with a spatial period of ~2 resolution elements.\n",
    "\n",
    "Let's simulate some SHS spectra."
   ]
  },
  {
   "cell_type": "markdown",
   "id": "c4f5879a-8892-46a9-aca5-f66c3d1f15de",
   "metadata": {},
   "source": [
    "# Signal-to-noise\n",
    "\n",
    "For an unblended signal, the amount of integration time needed to obtain a given signal-to-noise is \n",
    "\n",
    "$t = \\frac{\\mathrm{SNR}^2}{n_s}$\n",
    "\n",
    "Where $n_s$ is the signal photon arrival rate.\n",
    "\n",
    "If the signal is blended with a background signal with photon arrival rate $n_b$, then \n",
    "\n",
    "$t = 2(1+n_b/n_s)\\frac{\\mathrm{SNR}^2}{n_s}$\n",
    "\n",
    "EMUS observes 350 counts / s / kR using the 0.18° slit in a 0.36° resolution element at Lyman α (EMUS paper figure 14).\n",
    "\n",
    "## slit width\n",
    "Off-axis rays have the potential to produce fringes in the interferogram because they replicate the effect of angular dispersion introduced by the grating. For this reason the effective field-of-view of the interferometer is limited to Ω = 2π/R, or, if the input is a spot of angular diameter 2θ, then \n",
    "\n",
    "2π*(1 - cos(θ)) = Ω = 2π / R\n",
    "\n",
    "θ = arccos(1 - 1/R)\n",
    "\n",
    "for R = 912,000, we obtain θ = 0.0848°, as compared with the IUVS airglow slit width of 0.06°. (Increase of 1.41x) Comparing with EMUS mid-high res slit of 0.18° we have about half the throughput.\n",
    "\n",
    "## number of bounces\n",
    "An SHS with a roof mirror has something like 8 reflections (telescope, collimator, grating, 2 * roof mirror, flat mirror, grating, camera)\n",
    "\n",
    "MgF2 has a reflectance of about 80% at Lyman alpha. Going from 2 bounces for EMUS to 8 bounces reduces the throughput to 0.26x EMUS.\n",
    "\n",
    "## Observed signal\n",
    "If we observe across 10.75° and observe a Venus signal of 40 kR, the photon arrival rate for our SHS is \n",
    "\n",
    "$n_b = (350\\mathrm{\\,c/s/kR})\\times(40\\mathrm{\\,kR})\\times(10.75^{\\circ}/0.36^\\circ)\\times(0.08^{\\circ}/0.18^\\circ)\\times0.26$\n",
    "\n",
    "$n_b=5\\times10^4\\mathrm{\\,c/s}$\n",
    "\n",
    "If The signal we want to observe is 0.01 kR (8 thermal widths from core), we have\n",
    "\n",
    "$n_s = 12\\mathrm{\\,c/s}$\n",
    "\n",
    "so that for SNR=10 need \n",
    "\n",
    "$t>=6.6\\times 10^4\\mathrm{\\, s} = 18\\mathrm{\\, hr}$\n",
    "\n",
    "If we want to observe D, then assume D Lyman alpha / H Lyman alpha = 120x VSMOW = (120 * 155.76 ppm) = 1/53.5 (worst case, assumes both H and D are optically thin and atomic D/H is the same as HDO/H2O), so that\n",
    "\n",
    "$n_s = 5\\times 10^4 / 53.5 \\mathrm{\\,c/s}$\n",
    "$n_s = 935\\mathrm{\\,c/s}$\n",
    "\n",
    "and\n",
    "\n",
    "$t >= 12\\mathrm{\\,s}$\n",
    "\n",
    "So D/H is easy, but H line wings are challenging."
   ]
  },
  {
   "cell_type": "markdown",
   "id": "7f4b1eba-50c9-479d-bb65-2fbf71f91d4c",
   "metadata": {},
   "source": [
    "# Attempt to Simulate Spectra (not working)\n",
    "\n",
    "Harlander gives the instrument response of a SHS as a function of horizontal position on the detector as\n",
    "\n",
    "$I(x) = \\int_0^\\infty B(\\sigma) [1 + \\cos\\{2\\pi(4(\\sigma-\\sigma_0)\\,x\\tan\\theta)\\}] d\\sigma$\n",
    "\n",
    "For two delta function input wavenumbers at $\\sigma_0$, $\\sigma_1$ this gives\n",
    "\n",
    "$I(x) = B(\\sigma_0) + B(\\sigma_1) [1 + \\cos\\{2\\pi(4(\\sigma_1-\\sigma_0)\\,x\\tan\\theta)\\}]$\n",
    "\n",
    "If H and D Lyman alpha are both approximated as singlets at the mean wavelength of the fine structure, we obtain\n",
    "\n"
   ]
  },
  {
   "cell_type": "code",
   "execution_count": null,
   "id": "91b18bc2-daea-4233-9518-53bf8e60e363",
   "metadata": {},
   "outputs": [],
   "source": [
    "import numpy as np\n",
    "import matplotlib as mpl\n",
    "import matplotlib.pyplot as plt"
   ]
  },
  {
   "cell_type": "code",
   "execution_count": null,
   "id": "6b4fe55b-b527-49f4-a8ca-3d9e47e46412",
   "metadata": {},
   "outputs": [],
   "source": [
    "wavenumber_sep = (0.5/(121.5673644608e-9)+0.5/(121.5668237310e-9)) - (0.5/(121.533755495e-9)+0.5/(121.534243879e-9)) # m^-1\n",
    "inside_coef = 4*wavenumber_sep*np.tan(np.deg2rad(46.8)) # m^-1\n",
    "1/inside_coef * 1000 # 1000 mm / m"
   ]
  },
  {
   "cell_type": "markdown",
   "id": "82060427-b4c3-413a-af40-62c7c942f7af",
   "metadata": {},
   "source": [
    "$I(x) = B(\\sigma_0) + B(\\sigma_1) [1 + \\cos\\left(2\\pi\\cdot\\frac{x}{0.105\\mathrm{\\, mm}}\\right)]$"
   ]
  },
  {
   "cell_type": "code",
   "execution_count": null,
   "id": "e10a90c9-064b-4f4c-9a06-145fbb6d3169",
   "metadata": {},
   "outputs": [],
   "source": [
    "def f(x, b0=1, b1=1):\n",
    "    return b0 + b1*(1+np.cos(2*np.pi*(x/0.105)))\n",
    "\n",
    "det_x = np.linspace(0,1000,1001)\n",
    "\n",
    "fig, ax = plt.subplots(1, dpi=200, figsize=(10,2))\n",
    "plt.plot(det_x, f(det_x*38/1000, b1=0.5))\n",
    "plt.xlim(0,100)\n",
    "plt.ylim(0,2)"
   ]
  },
  {
   "cell_type": "markdown",
   "id": "6749ad29-81ec-473c-b218-6597f3b08fdb",
   "metadata": {},
   "source": [
    "The waveform is certainly resolvable at the spatial scale of the detector (though we should be doing pixel averaging, not sampling).\n",
    "\n",
    "The question of whether a faint periodic signal is resolvable from the constant background at a given signal level is tricky and will require modeling. One major advantage is that the signal is highly periodic, which noise will have a hard time replicating.\n",
    "\n",
    "For a wavelength much closer to the center of the line, say H which is barely escaping, we have:"
   ]
  },
  {
   "cell_type": "code",
   "execution_count": null,
   "id": "7ed1b012-d9b9-4cf0-be59-b7ccba12030e",
   "metadata": {},
   "outputs": [],
   "source": [
    "lsep*1e9*10000"
   ]
  },
  {
   "cell_type": "code",
   "execution_count": null,
   "id": "15b4f7a0-f660-499d-9e2c-348e82ae8444",
   "metadata": {},
   "outputs": [],
   "source": [
    "lsep"
   ]
  },
  {
   "cell_type": "code",
   "execution_count": null,
   "id": "598c6a8f-36d5-4351-9c40-5c1c171df363",
   "metadata": {},
   "outputs": [],
   "source": [
    "l0=(0.5*(121.5673644608e-9)+0.5*(121.5668237310e-9))\n",
    "s0=1/l0\n",
    "s_limit = s0/(4*38*6000)\n",
    "lsep = s_limit*1\n",
    "\n",
    "wavenumber_sep = lsep# m^-1\n",
    "inside_coef = 4*wavenumber_sep*np.tan(np.deg2rad(46.8)) # m^-1\n",
    "spa_length = 1/inside_coef * 1000 # 1000 mm / m"
   ]
  },
  {
   "cell_type": "code",
   "execution_count": null,
   "id": "88108331-a437-46ec-ba97-32258d4e22c6",
   "metadata": {},
   "outputs": [],
   "source": [
    "def f(x, b0=1, b1=1):\n",
    "    return b0 + b1*(1+np.cos(2*np.pi*(x/spa_length)))\n",
    "\n",
    "det_x = np.linspace(0,1000,1001)\n",
    "\n",
    "fig, ax = plt.subplots(1, dpi=200, figsize=(10,2))\n",
    "plt.plot(det_x, f(det_x*38/1000, b1=0.5))\n",
    "plt.xlim(0,1000)\n",
    "plt.ylim(0,2)"
   ]
  },
  {
   "cell_type": "code",
   "execution_count": null,
   "id": "15e90047-9fa6-4c71-8d5f-47c7c46beb4a",
   "metadata": {},
   "outputs": [],
   "source": [
    "det_x"
   ]
  },
  {
   "cell_type": "markdown",
   "id": "358d8820-322f-41e4-9442-868781508e99",
   "metadata": {},
   "source": [
    "How many photons would our SHS spectrometer detect?\n",
    "\n",
    "Off-axis rays have the potential to produce fringes in the interferogram because they replicate the effect of angular dispersion introduced by the grating. For this reason the effective field-of-view of the interferometer is limited to Ω = 2π/R, or, if the input is a spot of angular diameter 2θ, then \n",
    "\n",
    "2π*(1 - cos(θ)) = Ω = 2π / R\n",
    "\n",
    "θ = arccos(1 - 1/R)\n",
    "\n",
    "for R = 912,000, we obtain θ = 0.0848°, as compared with the IUVS airglow slit width of 0.06°. (Increase of 1.41x) Comparing with EMUS mid-high res slit of 0.18° we have about half the throughput.\n",
    "\n",
    "IUVS has 6 reflections in front of the FUV detector (scan mirror, telescope, collimator, grating, camera, beam splitter).\n",
    "\n",
    "An SHS with a roof mirror has something like 8 reflections (telescope, collimator, grating, 2 * roof mirror, flat mirror, grating, camera)\n",
    "\n",
    "MgF2 has a reflectance of about 80% at Lyman alpha, so adding two extra reflections reduces the sensitivity to 0.64x of IUVS for the same telescope area.\n",
    "\n",
    "Overall for the same telescope area we would receive about 90% of the photons IUVS receives in a single spatial element. The total \"spatial\" area available to the SHS is the same 0.085°, compared with ~11.3° degrees for the IUVS airglow slit. 0.085° is about 6 pixels on the IUVS detector (IUVS airglow slit spans pixels 77-916). "
   ]
  },
  {
   "cell_type": "code",
   "execution_count": null,
   "id": "31274d49-80f3-4401-891b-5d2619492bce",
   "metadata": {},
   "outputs": [],
   "source": [
    "import numpy as np\n",
    "from astropy.io import fits\n",
    "import matplotlib.pyplot as plt\n",
    "\n",
    "%bookmark current_directory\n",
    "%cd /home/mike/Documents/MAVEN/IUVS/iuvs_python/maven_iuvs/\n",
    "import maven_iuvs as iuvs\n",
    "%cd current_directory"
   ]
  },
  {
   "cell_type": "code",
   "execution_count": null,
   "id": "58ea8f7e-e86a-4fcf-a218-08e3a85b3fcc",
   "metadata": {},
   "outputs": [],
   "source": [
    "myfits = fits.open('/media/mike/IUVS_chaffin/IUVS_data/orbit08400/mvn_iuv_l1b_apoapse-orbit08401-fuv_20190118T152757_v13_r01.fits.gz')"
   ]
  },
  {
   "cell_type": "code",
   "execution_count": null,
   "id": "5e4930e4-1d18-49a0-94ca-a46768fc5740",
   "metadata": {},
   "outputs": [],
   "source": [
    "myfits.info()"
   ]
  },
  {
   "cell_type": "code",
   "execution_count": null,
   "id": "ce96ce1c-6e0f-44c6-83ab-40b6510c2c29",
   "metadata": {},
   "outputs": [],
   "source": [
    "np.mean(np.diff(myfits['Integration'].data['ET']))"
   ]
  },
  {
   "cell_type": "code",
   "execution_count": null,
   "id": "00286c3f-8135-4a78-9668-c8c44048e500",
   "metadata": {},
   "outputs": [],
   "source": [
    "myfits['Observation'].data['MCP_VOLT']"
   ]
  },
  {
   "cell_type": "code",
   "execution_count": null,
   "id": "52dce221-0fe9-490a-a875-4c56e2590848",
   "metadata": {},
   "outputs": [],
   "source": [
    "myfits['Observation'].data['MCP_GAIN']"
   ]
  },
  {
   "cell_type": "code",
   "execution_count": null,
   "id": "7caf1cf5-1672-48fb-9357-f59b15d798b5",
   "metadata": {},
   "outputs": [],
   "source": [
    "iuvs.instrument.mcp_volt_to_gain(myfits['Observation'].data['MCP_VOLT'])"
   ]
  },
  {
   "cell_type": "code",
   "execution_count": null,
   "id": "ae5bec02-6ab9-4d7a-9964-34db96eb8bf8",
   "metadata": {},
   "outputs": [],
   "source": [
    "np.mean(np.diff(myfits['Integration'].data['ET']))"
   ]
  },
  {
   "cell_type": "code",
   "execution_count": null,
   "id": "63421009-5329-4407-bc36-f74de44cf572",
   "metadata": {},
   "outputs": [],
   "source": [
    "myfits['Binning'].data['SPABINWIDTH']"
   ]
  },
  {
   "cell_type": "code",
   "execution_count": null,
   "id": "7aed118e-eb5c-4f4c-8eec-7b1471e74538",
   "metadata": {},
   "outputs": [],
   "source": [
    "myfits['detector_dark_subtracted'].data.shape"
   ]
  },
  {
   "cell_type": "code",
   "execution_count": null,
   "id": "91b1dde6-f230-4bb7-8e6b-7b484071b419",
   "metadata": {},
   "outputs": [],
   "source": [
    "plt.plot(6/80*np.transpose(myfits['detector_dark_subtracted'].data[0,1:-1])/myfits['Observation'].data['MCP_GAIN']);\n",
    "plt.axvline(12)\n",
    "plt.axvline(24)"
   ]
  },
  {
   "cell_type": "code",
   "execution_count": null,
   "id": "22700e3d-fb0f-412f-ab69-7e6b14dfaa43",
   "metadata": {},
   "outputs": [],
   "source": [
    "all_int_dn = np.reshape(myfits['detector_dark_subtracted'].data[:,1:-1],\n",
    "                        (-1,myfits['detector_dark_subtracted'].data.shape[2]))\n",
    "\n",
    "# number of photons an SHS with 6 spatial pixels would see per second\n",
    "all_int_shs_photons = (6/80*all_int_dn[:,12:24])/myfits['Observation'].data['MCP_GAIN']/np.mean(np.diff(myfits['Integration'].data['ET']))\n",
    "\n",
    "# background subtract\n",
    "all_int_shs_photons_background = np.mean(all_int_shs_photons[:,[0,1,-2,-1]],axis=1)\n",
    "all_int_shs_photons -= np.repeat(all_int_shs_photons_background[:,np.newaxis],all_int_shs_photons.shape[1],axis=1)"
   ]
  },
  {
   "cell_type": "code",
   "execution_count": null,
   "id": "c359295c-857b-4611-bad2-83316021976c",
   "metadata": {},
   "outputs": [],
   "source": [
    "all_int_shs_photons"
   ]
  },
  {
   "cell_type": "code",
   "execution_count": null,
   "id": "79188d0f-968f-4bef-bab2-d781a8ce94f8",
   "metadata": {},
   "outputs": [],
   "source": [
    "all_int_shs_photons_background"
   ]
  },
  {
   "cell_type": "code",
   "execution_count": null,
   "id": "8999f57c-e3e1-4c29-8d19-3ca030628f66",
   "metadata": {},
   "outputs": [],
   "source": [
    "plt.plot(np.transpose(all_int_shs_photons),color='#000000',alpha=0.01);"
   ]
  },
  {
   "cell_type": "code",
   "execution_count": null,
   "id": "140324b7-da7b-455e-bdb1-37fab6a5bd34",
   "metadata": {},
   "outputs": [],
   "source": [
    "lya_photon_count = np.sum(all_int_shs_photons,axis=1)\n",
    "lya_photon_count"
   ]
  },
  {
   "cell_type": "code",
   "execution_count": null,
   "id": "fc6e920f-acd4-48f3-ae29-7e7d7be5167c",
   "metadata": {},
   "outputs": [],
   "source": [
    "all_int_cal_contributions = np.reshape(myfits['PRIMARY'].data[:,1:-1]*myfits['Observation'].data['WAVELENGTH_WIDTH'][:,1:-1],\n",
    "                                       (-1,myfits['PRIMARY'].data.shape[2]))"
   ]
  },
  {
   "cell_type": "code",
   "execution_count": null,
   "id": "c95eb457-0ac0-4840-89db-395e78ccb573",
   "metadata": {},
   "outputs": [],
   "source": [
    "lya_kR = np.sum(all_int_cal_contributions[:,12:24], axis=1)\n",
    "lya_kR"
   ]
  },
  {
   "cell_type": "code",
   "execution_count": null,
   "id": "c654d6bc-787e-4b31-b276-81caeea84b7d",
   "metadata": {},
   "outputs": [],
   "source": [
    "plt.hist(lya_photon_count / lya_kR)"
   ]
  },
  {
   "cell_type": "raw",
   "id": "6707022d-d78b-4775-a416-a9ce47e2e2f2",
   "metadata": {},
   "source": [
    "Conclusion: IUVS sees about 5-6 ph/s/kR @ Lyman alpha across 6 spatial rows (~0.085°)\n",
    "\n",
    "At Venus, lyman alpha had a peak brightness of 40 kR (hot component contributes about 4 kR). To get SNR 10 on 4 kR would require 100 photons\n",
    "\n",
    "100ph / ((5-6 ph/s/kR)*4kR) = 4-5 s\n",
    "\n",
    "but this signal is probably spread out over a large range of wavelengths, detecting an individual component may be tricky. If we want SNR 10 on the 4th Doppler width from the Lyman alpha line center this would be \n",
    "\n",
    "0.0015 * 40 kR = 0.06 kR\n",
    "\n",
    "100ph / ((5-6 ph/s/kR)*0.06kR) = 320 - 400 s\n",
    "\n",
    "5 eV protons are traveling at 30 km / s. The resolution of an SHS with R=912,000 is ~0.3 km / s .\n",
    "\n",
    "If the 4 kR are spread evenly across 100 km / s, there would be 0.3/100 * 4kR = 0.012 kR in each resolution element of the spectrometer from this source. Obtaining SNR 10 on this component would require 5x longer than for 0.06 kR, 1600 - 2000 s .\n",
    "\n",
    "For 1kR proton aurora, intensities would be spread across 2x the speed of the solar wind (400 km/s), giving a reduction in signal of 4*4 = 16 and requiring 16x longer integrations.\n",
    "\n",
    "The EMUS mirror is 35 mm x 61 mm (entrance pupil 30 mm x 20 mm), while IUVS is 13.3 mm x 20 mm. So an increase in sensitivity of 2.25 - 8.0 in the collecting area is possible; it would also be possible to increase the acceptance angle of the instrument by using different focal lengths for the telescope and collimator mirror. With an f ratio of 3(?) and an increase in mirror size of 8, we would get 24x the signal of IUVS, resulting in integration times of 60-80s for the 4 kR example above.\n",
    "\n",
    "Things to consider: \n",
    "\n",
    "(1) can coaddition across different spectral resolution elements be performed? If so, SNR requirements decrease dramatically. Unclear how to do this with an interferogram.\n",
    "\n",
    "(2) Reducing the spectral resolution has quadratic effect on the signal obtained, if we can afford a 2x reduction in R then all integration times are divided by 2.\n",
    "\n",
    "(3) Long integration times may cause burn-in on the detector, or result in cosmic ray artifacts.\n",
    "\n",
    "(4) The entire detector must be downlinked or compressed to retain all photons and SNR --- potential data volume problems."
   ]
  }
 ],
 "metadata": {
  "kernelspec": {
   "display_name": "Python 3 (ipykernel)",
   "language": "python",
   "name": "python3"
  },
  "language_info": {
   "codemirror_mode": {
    "name": "ipython",
    "version": 3
   },
   "file_extension": ".py",
   "mimetype": "text/x-python",
   "name": "python",
   "nbconvert_exporter": "python",
   "pygments_lexer": "ipython3",
   "version": "3.10.13"
  }
 },
 "nbformat": 4,
 "nbformat_minor": 5
}
